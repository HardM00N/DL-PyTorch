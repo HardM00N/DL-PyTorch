{
 "cells": [
  {
   "cell_type": "markdown",
   "id": "f5699d9a",
   "metadata": {},
   "source": [
    "# Initialization\n",
    "---\n",
    "- Initialize는 초기화라는 뜻임. 신경망은 처음에 Weight를 랜덤하게 초기화하고 Loss가 최소화되는 부분을 찾아감. \n",
    "- 이전에는 초기 분포로 Uniform Distribution이나 Normal Distribution을 사용했음. \n",
    "- Weight를 랜덤하게 초기화하면 신경망의 초기 Loss가 달라짐. 신경망을 어떻게 초기화하느냐에 따라 학습 속도가 달라질 수 있음. \n",
    "- 가중치 초기화만 적절히 해줘도 기울기 소실 문제를 완화시킬 수 있음. \n",
    "- 때문에 신경망의 초기화 기법에 대해 다양한 연구가 이루어지고 있음."
   ]
  },
  {
   "cell_type": "markdown",
   "id": "61b833d1",
   "metadata": {},
   "source": [
    "- 대표적인 초기화 기법\n",
    "    - Xavier Initialization\n",
    "    - LeCun Initialization\n",
    "    - He Initialization"
   ]
  },
  {
   "cell_type": "markdown",
   "id": "77ad8a29",
   "metadata": {},
   "source": [
    "## LeCun Initialization\n",
    "---\n",
    "- LeCun은 LeNet의 창시자이며, CNN을 세상에 도입한 사람임. \n",
    "- LeCun은 효과적인 역전파를 위한 논문에서 초기화 방법에 대해서 소개했는데, 정규분포를 따르는 방법과 균등분포를 따르는 두 가지 방법에 대해 소개함. "
   ]
  },
  {
   "cell_type": "markdown",
   "id": "fbf2e5cc",
   "metadata": {},
   "source": [
    "## Xavier Initialization\n",
    "---\n",
    "- 이전 노드와 다음 노드의 개수에 의존하는 방법임. \n",
    "- Uniform 분포를 따르는 방법과 Normal 분포를 따르는 두 가지 방법이 사용됨. \n",
    "- 구조는 LeCun의 초기화 방법과 유사하지만 다음 층의 노드 수도 사용하고, 많은 연구를 통해 가장 최적화된 상수값 또한 찾아냈음. \n",
    "- Xavier 초기화는 비선형 함수(sigmoid, tanh)에서 효과적인 결과를 보여줌. \n",
    "    - 하지만 ReLU 함수에서 사용 시 출력 값이 0으로 수렴하게 되는 현상을 확인할 수 있음. \n",
    "    - 따라서 ReLU 함수에는 다른 초기화 방법을 사용해야 함. "
   ]
  },
  {
   "cell_type": "markdown",
   "id": "aa480bb5",
   "metadata": {},
   "source": [
    "## He Initialization\n",
    "---\n",
    "- ReLU를 활성화 함수로 사용 시 Xavier 초기값 설정이 비효율적인 결과를 보이는 것을 확인했는데, 이런 경우 사용하는 초기화 방법을 He Initialization이라고 함. \n",
    "- 이 방법 또한 정규분포와 균등분포 두 가지 방법이 사용됨. "
   ]
  },
  {
   "cell_type": "markdown",
   "id": "380f118f",
   "metadata": {},
   "source": [
    "## MNIST를 이용해 MLP 설계 시 Dropout + ReLU + Batch Normalization + He Uniform Initializattion 적용하기\n",
    "---\n",
    "- 일반적인 딥러닝 모델은 다음 순서대로 설계해 학습하고 성능을 평가함.  \n",
    "\n",
    "1. 모델 구조를 설계하고 설계한 모델 구조의 파라미터 값을 랜덤하게 샘플링\n",
    "2. Feature 값으로 이용되는 데이터를 설계한 모델의 Input으로 사용해 Output을 계산\n",
    "3. 계산된 Output을 Input으로 이용한 Feature 갑소가 매칭되는 레이블 값을 기존에 정의한 objective function을 통해 Loss 값으로 계산\n",
    "4. 계산된 Loss 값을 통해 Gradient를 계산해 모델 내 파라미터 값을 Back Propagation에 의해 업데이트\n",
    "5. 이를 반복해 학습을 진행하며 학습이 완료된 이후 완성된 모델의 성능을 평가  \n",
    "\n",
    "\n",
    "- 이 중 1번에서 섥계한 모델 구조의 파라미터 값을 랜덤으로 샘플링하는 과정에서 어떤 분포에서 샘플링을 진행하는지에 따라 모델의 학습이 좋은 방향으로 진행될 수도 있고, 나쁜 방향으로 진행될 수도 있음 -> 즉, 학습의 시작점을 좋게 설정하면 학습을 수월하게 진행할 수 있음. \n",
    "- 파이토치 내의 nn.linear는 Output으로 계산되는 벡터의 차원 수의 역수 값에 대한 +/- 범위 내 Uniform Distribution을 설정해 샘플링한다고 함. \n",
    "- 여기서 정의한 분포가 아닌, He Initialization을 이용해 파라미터를 초기화해보자. "
   ]
  },
  {
   "cell_type": "code",
   "execution_count": 1,
   "id": "72f76aad",
   "metadata": {},
   "outputs": [],
   "source": [
    "'''1. Module Import'''\n",
    "\n",
    "import numpy as np\n",
    "import matplotlib.pyplot as plt\n",
    "import torch\n",
    "import torch.nn as nn\n",
    "import torch.nn.functional as F\n",
    "from torchvision import transforms, datasets"
   ]
  },
  {
   "cell_type": "code",
   "execution_count": 2,
   "id": "051d0439",
   "metadata": {},
   "outputs": [
    {
     "name": "stdout",
     "output_type": "stream",
     "text": [
      "Using Pytorch version:  1.11.0 Device:  cuda\n"
     ]
    }
   ],
   "source": [
    "'''2. 딥러닝 모델을 설계할 때 활용하는 장비 확인'''\n",
    "\n",
    "if torch.cuda.is_available():\n",
    "    DEVICE = torch.device('cuda')\n",
    "else:\n",
    "    DEVICE = torch.device('cpu')\n",
    "    \n",
    "print('Using Pytorch version: ', torch.__version__, 'Device: ', DEVICE)"
   ]
  },
  {
   "cell_type": "code",
   "execution_count": 3,
   "id": "34e33eb5",
   "metadata": {},
   "outputs": [],
   "source": [
    "BATCH_SIZE = 32\n",
    "EPOCHS = 10"
   ]
  },
  {
   "cell_type": "code",
   "execution_count": 4,
   "id": "ce792be5",
   "metadata": {},
   "outputs": [],
   "source": [
    "'''3. MNIST 데이터 다운로드 (split train / test)'''\n",
    "\n",
    "train_dataset = datasets.MNIST(root = \"../data/MNIST\",\n",
    "                              train = True,\n",
    "                              download = True,\n",
    "                              transform = transforms.ToTensor())\n",
    "\n",
    "test_dataset = datasets.MNIST(root = \"../data/MNIST\",\n",
    "                             train = False,\n",
    "                             transform = transforms.ToTensor())\n",
    "\n",
    "train_loader = torch.utils.data.DataLoader(dataset = train_dataset,\n",
    "                                          batch_size = BATCH_SIZE,\n",
    "                                          shuffle = True)\n",
    "\n",
    "test_loader = torch.utils.data.DataLoader(dataset = test_dataset,\n",
    "                                         batch_size = BATCH_SIZE,\n",
    "                                         shuffle = True)"
   ]
  },
  {
   "cell_type": "code",
   "execution_count": 5,
   "id": "a6738210",
   "metadata": {},
   "outputs": [
    {
     "name": "stdout",
     "output_type": "stream",
     "text": [
      "X_train:  torch.Size([32, 1, 28, 28]) type:  torch.FloatTensor\n",
      "y_train:  torch.Size([32]) type:  torch.LongTensor\n"
     ]
    }
   ],
   "source": [
    "'''4. 데이터 확인하기'''\n",
    "\n",
    "for (X_train, y_train) in train_loader:\n",
    "    \n",
    "    print('X_train: ', X_train.size(), 'type: ', X_train.type())\n",
    "    print('y_train: ', y_train.size(), 'type: ', y_train.type())\n",
    "    \n",
    "    break"
   ]
  },
  {
   "cell_type": "code",
   "execution_count": 6,
   "id": "ebaf5456",
   "metadata": {},
   "outputs": [
    {
     "data": {
      "image/png": "[encoded data removed]",
      "text/plain": [
       "<Figure size 720x72 with 10 Axes>"
      ]
     },
     "metadata": {
      "needs_background": "light"
     },
     "output_type": "display_data"
    }
   ],
   "source": [
    "'''5. 데이터 확인하기'''\n",
    "pltsize = 1\n",
    "plt.figure(figsize=(10 * pltsize, pltsize))\n",
    "\n",
    "for i in range(10):\n",
    "    plt.subplot(1, 10, i+1)\n",
    "    plt.axis('off')\n",
    "    plt.imshow(X_train[i, :, :, :].numpy().reshape(28, 28), cmap='gray_r')\n",
    "    plt.title('Class: ' + str(y_train[i].item()))"
   ]
  },
  {
   "cell_type": "code",
   "execution_count": 7,
   "id": "b6f64757",
   "metadata": {},
   "outputs": [],
   "source": [
    "'''6. MLP(Multi Layer Perceptron) 모델 설계하기'''\n",
    "\n",
    "class Net(nn.Module):\n",
    "    \n",
    "    def __init__(self):\n",
    "        super(Net, self).__init__()\n",
    "        self.fc1 = nn.Linear(28*28, 512)\n",
    "        self.fc2 = nn.Linear(512, 256)\n",
    "        self.fc3 = nn.Linear(256, 10)\n",
    "        self.dropout_prob = 0.5\n",
    "        self.batch_norm1 = nn.BatchNorm1d(512)\n",
    "        self.batch_norm2 = nn.BatchNorm1d(256)\n",
    "        \n",
    "    def forward(self, x):\n",
    "        \n",
    "        x = x.view(-1, 28*28)\n",
    "        \n",
    "        x = self.fc1(x)\n",
    "        x = self.batch_norm1(x)\n",
    "        x = F.relu(x)\n",
    "        x = F.dropout(x, training=self.training, p=self.dropout_prob)\n",
    "        \n",
    "        x = self.fc2(x)\n",
    "        x = self.batch_norm2(x)\n",
    "        x = F.relu(x)\n",
    "        x = F.dropout(x, training=self.training, p=self.dropout_prob)\n",
    "        \n",
    "        x = self.fc3(x)\n",
    "        x = F.log_softmax(x, dim=1)\n",
    "        \n",
    "        return x"
   ]
  },
  {
   "cell_type": "code",
   "execution_count": 8,
   "id": "fbcabf39",
   "metadata": {},
   "outputs": [
    {
     "name": "stdout",
     "output_type": "stream",
     "text": [
      "Net(\n",
      "  (fc1): Linear(in_features=784, out_features=512, bias=True)\n",
      "  (fc2): Linear(in_features=512, out_features=256, bias=True)\n",
      "  (fc3): Linear(in_features=256, out_features=10, bias=True)\n",
      "  (batch_norm1): BatchNorm1d(512, eps=1e-05, momentum=0.1, affine=True, track_running_stats=True)\n",
      "  (batch_norm2): BatchNorm1d(256, eps=1e-05, momentum=0.1, affine=True, track_running_stats=True)\n",
      ")\n"
     ]
    }
   ],
   "source": [
    "'''7. Optimizer, Objective Function 설정하기'''\n",
    "\n",
    "# Weight, Bias 등 딥러닝 모델에서 초깃값으로 설정되는 요소에 대한 모듈인 init을 임포트\n",
    "import torch.nn.init as init\n",
    "\n",
    "# MLP 모델 내의 Weight를 초기화할 부분을 설정하기 위해 weight_init 함수 정의\n",
    "def weight_init(m):\n",
    "    \n",
    "    # MLP 모델을 구성하고 있는 파라미터 중 nn.Linear에 해당하는 파라미터 값에 대해서만 지정\n",
    "    if isinstance(m, nn.Linear):\n",
    "        \n",
    "        # nn.Linear에 해당하는 파라미터 값에 대해 he_initialization을 이용해 파라미터 값을 초기화\n",
    "        init.kaiming_uniform_(m.weight.data)\n",
    "\n",
    "model = Net().to(DEVICE)\n",
    "\n",
    "# 앞서 정의한 weight_init 함수를 Net() 클래스의 인스턴스인 model에 적용\n",
    "model.apply(weight_init)\n",
    "optimizer = torch.optim.SGD(model.parameters(), lr=0.01, momentum=0.5)\n",
    "criterion = nn.CrossEntropyLoss()\n",
    "\n",
    "print(model)"
   ]
  },
  {
   "cell_type": "markdown",
   "id": "de18beef",
   "metadata": {},
   "source": [
    "- 지금까지 다룬 예제가 Class 내 모델을 설계하는 영역에서 설정했다면 이번에는 모델을 정의하는 부분에서 설정을 바꿈. \n",
    "- 파라미터 값 중 nn.Linear 인스턴스에 대해서는 kaiming_uniform_을 이용해 초기화하는 것으로 설정되어 있음. \n",
    "- 이외의 파라미터 값은 기본값으로 설정된 분포에서 샘플링해 랜덤으로 설정됨. "
   ]
  },
  {
   "cell_type": "code",
   "execution_count": 9,
   "id": "79a5056f",
   "metadata": {},
   "outputs": [],
   "source": [
    "'''8. MLP 모델 학습을 진행하며 학습 데이터에 대한 모델 성능을 확인하는 함수 정의'''\n",
    "\n",
    "def train(model, train_loader, optimizer, log_interval):\n",
    "    \n",
    "    model.train()\n",
    "    \n",
    "    for batch_idx, (image, label) in enumerate(train_loader):\n",
    "        \n",
    "        image = image.to(DEVICE)\n",
    "        label = label.to(DEVICE)\n",
    "        \n",
    "        # 과거에 이용한 Mini-Batch 내에 있는 이미지와 레이블을 바탕으로 계산된 Loss의 Gradient 값이\n",
    "        # optimizer에 할당되어 있으므로 optimizer의 Gradient를 초기화\n",
    "        optimizer.zero_grad()\n",
    "        \n",
    "        # 장비에 할당한 이미지 데이터를 MLP 모델의 Input으로 이용해 Output 계산\n",
    "        output = model(image)\n",
    "        loss = criterion(output, label)\n",
    "        loss.backward()\n",
    "        \n",
    "        # 각 파라미터에 할당된 Gradient 값을 이용해 파라미터 값을 업데이트\n",
    "        optimizer.step()\n",
    "        \n",
    "        if batch_idx % log_interval == 0:\n",
    "            print(\"Train Epoch: {} [{}/{}({:.0f}%)]\\tTrain Loss: {:.6f}\".format(\n",
    "            Epoch, batch_idx * len(image),\n",
    "            len(train_loader.dataset), 100. * batch_idx / len(train_loader),\n",
    "            loss.item()))"
   ]
  },
  {
   "cell_type": "code",
   "execution_count": 10,
   "id": "a11eea99",
   "metadata": {},
   "outputs": [],
   "source": [
    "'''9. 학습되는 과정 속에서 검증 데이터에 대한 모델 성능을 확인하는 함수 정의'''\n",
    "\n",
    "def evaluate(model, test_loader):\n",
    "    \n",
    "    # 학습 과정 또는 학습이 완료된 MLP 모델을 학습 상태가 아닌, 평가 상태로 지정\n",
    "    model.eval()\n",
    "    \n",
    "    # 기존에 정의한 test_loader 내의 데이터를 이용해 Loss 값을 계산하기 위해 test_loss를 0으로 임시 설정\n",
    "    test_loss = 0\n",
    "    \n",
    "    # 학습 과정 또는 학습이 완료된 MLP 모델이 올바른 Class로 분류한 경우를 세기 위해 correct = 0으로 임시 설정\n",
    "    correct = 0\n",
    "    \n",
    "    with torch.no_grad():\n",
    "        for image, label in test_loader:\n",
    "            \n",
    "            image = image.to(DEVICE)\n",
    "            label = label.to(DEVICE)\n",
    "    \n",
    "            output = model(image)\n",
    "            test_loss += criterion(output, label).item()\n",
    "            \n",
    "            prediction = output.max(1, keepdim=True)[1]\n",
    "            \n",
    "            # MLP 모델이 최종으로 예측한 클래스 값과 실제 레이블이 의미하는 클래스가 맞으면 correct에 더해 올바르게 예측한 횟수를 저장\n",
    "            correct += prediction.eq(label.view_as(prediction)).sum().item()\n",
    "            \n",
    "    test_loss /= len(test_loader.dataset)\n",
    "    test_accuracy = 100. * correct / len(test_loader.dataset)\n",
    "    \n",
    "    return test_loss, test_accuracy"
   ]
  },
  {
   "cell_type": "code",
   "execution_count": 11,
   "id": "01f4e876",
   "metadata": {
    "scrolled": false
   },
   "outputs": [
    {
     "name": "stdout",
     "output_type": "stream",
     "text": [
      "Train Epoch: 1 [0/60000(0%)]\tTrain Loss: 3.100132\n",
      "Train Epoch: 1 [6400/60000(11%)]\tTrain Loss: 0.517624\n",
      "Train Epoch: 1 [12800/60000(21%)]\tTrain Loss: 0.367041\n",
      "Train Epoch: 1 [19200/60000(32%)]\tTrain Loss: 0.507790\n",
      "Train Epoch: 1 [25600/60000(43%)]\tTrain Loss: 0.312150\n",
      "Train Epoch: 1 [32000/60000(53%)]\tTrain Loss: 0.557056\n",
      "Train Epoch: 1 [38400/60000(64%)]\tTrain Loss: 0.381651\n",
      "Train Epoch: 1 [44800/60000(75%)]\tTrain Loss: 0.397203\n",
      "Train Epoch: 1 [51200/60000(85%)]\tTrain Loss: 0.243633\n",
      "Train Epoch: 1 [57600/60000(96%)]\tTrain Loss: 0.167273\n",
      "\n",
      "[EPOCH: 1], \tTest Loss: 0.0069, \tTest Accuracy: 93.43 %\n",
      "\n",
      "Train Epoch: 2 [0/60000(0%)]\tTrain Loss: 0.312635\n",
      "Train Epoch: 2 [6400/60000(11%)]\tTrain Loss: 0.510456\n",
      "Train Epoch: 2 [12800/60000(21%)]\tTrain Loss: 0.446387\n",
      "Train Epoch: 2 [19200/60000(32%)]\tTrain Loss: 0.239688\n",
      "Train Epoch: 2 [25600/60000(43%)]\tTrain Loss: 0.383590\n",
      "Train Epoch: 2 [32000/60000(53%)]\tTrain Loss: 0.536176\n",
      "Train Epoch: 2 [38400/60000(64%)]\tTrain Loss: 0.295238\n",
      "Train Epoch: 2 [44800/60000(75%)]\tTrain Loss: 0.376730\n",
      "Train Epoch: 2 [51200/60000(85%)]\tTrain Loss: 0.574769\n",
      "Train Epoch: 2 [57600/60000(96%)]\tTrain Loss: 0.251496\n",
      "\n",
      "[EPOCH: 2], \tTest Loss: 0.0053, \tTest Accuracy: 94.96 %\n",
      "\n",
      "Train Epoch: 3 [0/60000(0%)]\tTrain Loss: 0.276653\n",
      "Train Epoch: 3 [6400/60000(11%)]\tTrain Loss: 0.478484\n",
      "Train Epoch: 3 [12800/60000(21%)]\tTrain Loss: 0.686075\n",
      "Train Epoch: 3 [19200/60000(32%)]\tTrain Loss: 0.269517\n",
      "Train Epoch: 3 [25600/60000(43%)]\tTrain Loss: 0.191766\n",
      "Train Epoch: 3 [32000/60000(53%)]\tTrain Loss: 0.136084\n",
      "Train Epoch: 3 [38400/60000(64%)]\tTrain Loss: 0.233395\n",
      "Train Epoch: 3 [44800/60000(75%)]\tTrain Loss: 0.413043\n",
      "Train Epoch: 3 [51200/60000(85%)]\tTrain Loss: 0.357992\n",
      "Train Epoch: 3 [57600/60000(96%)]\tTrain Loss: 0.258076\n",
      "\n",
      "[EPOCH: 3], \tTest Loss: 0.0047, \tTest Accuracy: 95.33 %\n",
      "\n",
      "Train Epoch: 4 [0/60000(0%)]\tTrain Loss: 0.075634\n",
      "Train Epoch: 4 [6400/60000(11%)]\tTrain Loss: 0.398802\n",
      "Train Epoch: 4 [12800/60000(21%)]\tTrain Loss: 0.169191\n",
      "Train Epoch: 4 [19200/60000(32%)]\tTrain Loss: 0.161348\n",
      "Train Epoch: 4 [25600/60000(43%)]\tTrain Loss: 0.362522\n",
      "Train Epoch: 4 [32000/60000(53%)]\tTrain Loss: 0.115509\n",
      "Train Epoch: 4 [38400/60000(64%)]\tTrain Loss: 0.180346\n",
      "Train Epoch: 4 [44800/60000(75%)]\tTrain Loss: 0.170045\n",
      "Train Epoch: 4 [51200/60000(85%)]\tTrain Loss: 0.132848\n",
      "Train Epoch: 4 [57600/60000(96%)]\tTrain Loss: 0.363007\n",
      "\n",
      "[EPOCH: 4], \tTest Loss: 0.0041, \tTest Accuracy: 96.08 %\n",
      "\n",
      "Train Epoch: 5 [0/60000(0%)]\tTrain Loss: 0.388671\n",
      "Train Epoch: 5 [6400/60000(11%)]\tTrain Loss: 0.711659\n",
      "Train Epoch: 5 [12800/60000(21%)]\tTrain Loss: 0.790259\n",
      "Train Epoch: 5 [19200/60000(32%)]\tTrain Loss: 0.156832\n",
      "Train Epoch: 5 [25600/60000(43%)]\tTrain Loss: 0.136912\n",
      "Train Epoch: 5 [32000/60000(53%)]\tTrain Loss: 0.334845\n",
      "Train Epoch: 5 [38400/60000(64%)]\tTrain Loss: 0.349637\n",
      "Train Epoch: 5 [44800/60000(75%)]\tTrain Loss: 0.125445\n",
      "Train Epoch: 5 [51200/60000(85%)]\tTrain Loss: 0.317250\n",
      "Train Epoch: 5 [57600/60000(96%)]\tTrain Loss: 0.334072\n",
      "\n",
      "[EPOCH: 5], \tTest Loss: 0.0038, \tTest Accuracy: 96.44 %\n",
      "\n",
      "Train Epoch: 6 [0/60000(0%)]\tTrain Loss: 0.539965\n",
      "Train Epoch: 6 [6400/60000(11%)]\tTrain Loss: 0.177473\n",
      "Train Epoch: 6 [12800/60000(21%)]\tTrain Loss: 0.169110\n",
      "Train Epoch: 6 [19200/60000(32%)]\tTrain Loss: 0.466704\n",
      "Train Epoch: 6 [25600/60000(43%)]\tTrain Loss: 0.159756\n",
      "Train Epoch: 6 [32000/60000(53%)]\tTrain Loss: 0.121030\n",
      "Train Epoch: 6 [38400/60000(64%)]\tTrain Loss: 0.165365\n",
      "Train Epoch: 6 [44800/60000(75%)]\tTrain Loss: 0.125044\n",
      "Train Epoch: 6 [51200/60000(85%)]\tTrain Loss: 0.306989\n",
      "Train Epoch: 6 [57600/60000(96%)]\tTrain Loss: 0.223848\n",
      "\n",
      "[EPOCH: 6], \tTest Loss: 0.0036, \tTest Accuracy: 96.52 %\n",
      "\n",
      "Train Epoch: 7 [0/60000(0%)]\tTrain Loss: 0.178865\n",
      "Train Epoch: 7 [6400/60000(11%)]\tTrain Loss: 0.155072\n",
      "Train Epoch: 7 [12800/60000(21%)]\tTrain Loss: 0.441205\n",
      "Train Epoch: 7 [19200/60000(32%)]\tTrain Loss: 0.196184\n",
      "Train Epoch: 7 [25600/60000(43%)]\tTrain Loss: 0.239124\n",
      "Train Epoch: 7 [32000/60000(53%)]\tTrain Loss: 0.123908\n",
      "Train Epoch: 7 [38400/60000(64%)]\tTrain Loss: 0.525708\n",
      "Train Epoch: 7 [44800/60000(75%)]\tTrain Loss: 0.217520\n",
      "Train Epoch: 7 [51200/60000(85%)]\tTrain Loss: 0.053412\n",
      "Train Epoch: 7 [57600/60000(96%)]\tTrain Loss: 0.064870\n",
      "\n",
      "[EPOCH: 7], \tTest Loss: 0.0034, \tTest Accuracy: 96.86 %\n",
      "\n",
      "Train Epoch: 8 [0/60000(0%)]\tTrain Loss: 0.040810\n",
      "Train Epoch: 8 [6400/60000(11%)]\tTrain Loss: 0.059308\n",
      "Train Epoch: 8 [12800/60000(21%)]\tTrain Loss: 0.434927\n",
      "Train Epoch: 8 [19200/60000(32%)]\tTrain Loss: 0.238266\n",
      "Train Epoch: 8 [25600/60000(43%)]\tTrain Loss: 0.180287\n",
      "Train Epoch: 8 [32000/60000(53%)]\tTrain Loss: 0.500083\n",
      "Train Epoch: 8 [38400/60000(64%)]\tTrain Loss: 0.220436\n",
      "Train Epoch: 8 [44800/60000(75%)]\tTrain Loss: 0.181571\n",
      "Train Epoch: 8 [51200/60000(85%)]\tTrain Loss: 0.226085\n",
      "Train Epoch: 8 [57600/60000(96%)]\tTrain Loss: 0.341192\n",
      "\n",
      "[EPOCH: 8], \tTest Loss: 0.0031, \tTest Accuracy: 96.81 %\n",
      "\n",
      "Train Epoch: 9 [0/60000(0%)]\tTrain Loss: 0.039054\n",
      "Train Epoch: 9 [6400/60000(11%)]\tTrain Loss: 0.160634\n",
      "Train Epoch: 9 [12800/60000(21%)]\tTrain Loss: 0.122264\n",
      "Train Epoch: 9 [19200/60000(32%)]\tTrain Loss: 0.422101\n",
      "Train Epoch: 9 [25600/60000(43%)]\tTrain Loss: 0.067734\n",
      "Train Epoch: 9 [32000/60000(53%)]\tTrain Loss: 0.125747\n",
      "Train Epoch: 9 [38400/60000(64%)]\tTrain Loss: 0.116737\n",
      "Train Epoch: 9 [44800/60000(75%)]\tTrain Loss: 0.089077\n",
      "Train Epoch: 9 [51200/60000(85%)]\tTrain Loss: 0.152090\n",
      "Train Epoch: 9 [57600/60000(96%)]\tTrain Loss: 0.216539\n",
      "\n",
      "[EPOCH: 9], \tTest Loss: 0.0029, \tTest Accuracy: 97.01 %\n",
      "\n",
      "Train Epoch: 10 [0/60000(0%)]\tTrain Loss: 0.087314\n",
      "Train Epoch: 10 [6400/60000(11%)]\tTrain Loss: 0.170956\n",
      "Train Epoch: 10 [12800/60000(21%)]\tTrain Loss: 0.277830\n",
      "Train Epoch: 10 [19200/60000(32%)]\tTrain Loss: 0.030316\n",
      "Train Epoch: 10 [25600/60000(43%)]\tTrain Loss: 0.067302\n",
      "Train Epoch: 10 [32000/60000(53%)]\tTrain Loss: 0.147592\n",
      "Train Epoch: 10 [38400/60000(64%)]\tTrain Loss: 0.158023\n",
      "Train Epoch: 10 [44800/60000(75%)]\tTrain Loss: 0.025101\n",
      "Train Epoch: 10 [51200/60000(85%)]\tTrain Loss: 0.106076\n",
      "Train Epoch: 10 [57600/60000(96%)]\tTrain Loss: 0.207452\n",
      "\n",
      "[EPOCH: 10], \tTest Loss: 0.0029, \tTest Accuracy: 97.15 %\n",
      "\n"
     ]
    }
   ],
   "source": [
    "'''10. MLP 학습을 실행하면서 Train, Test set의 Loss 및 Test set Accuracy를 확인하기'''\n",
    "\n",
    "for Epoch in range(1, EPOCHS + 1):\n",
    "    \n",
    "    train(model, train_loader, optimizer, log_interval=200)\n",
    "    \n",
    "    test_loss, test_accuracy = evaluate(model, test_loader)\n",
    "    print(\"\\n[EPOCH: {}], \\tTest Loss: {:.4f}, \\tTest Accuracy: {:.2f} %\\n\".\n",
    "         format(Epoch, test_loss, test_accuracy))"
   ]
  },
  {
   "cell_type": "markdown",
   "id": "82dfb295",
   "metadata": {},
   "source": [
    "## Reference\n",
    "---\n",
    "- 파이썬 딥러닝 파이토치 - 이경택, 방성수, 안상준  \n",
    "- https://wikidocs.net/61271\n",
    "- https://reniew.github.io/13/"
   ]
  }
 ],
 "metadata": {
  "kernelspec": {
   "display_name": "Python 3 (ipykernel)",
   "language": "python",
   "name": "python3"
  },
  "language_info": {
   "codemirror_mode": {
    "name": "ipython",
    "version": 3
   },
   "file_extension": ".py",
   "mimetype": "text/x-python",
   "name": "python",
   "nbconvert_exporter": "python",
   "pygments_lexer": "ipython3",
   "version": "3.8.12"
  }
 },
 "nbformat": 4,
 "nbformat_minor": 5
}
