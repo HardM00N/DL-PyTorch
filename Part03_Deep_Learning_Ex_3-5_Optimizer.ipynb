{
 "cells": [
  {
   "cell_type": "markdown",
   "id": "f5699d9a",
   "metadata": {},
   "source": [
    "# Optimizer\n",
    "---\n",
    "- 앞서 Batch 단위로 Back Propagation하는 과정을 Stochastic Gradient Descent(SGD)라고 하고, 이러한 과정을 Optimization이라고 했음. \n",
    "- SGD 외에도 SGD의 단점을 보완하기 위한 다양한 Optimizer가 있음. "
   ]
  },
  {
   "cell_type": "markdown",
   "id": "380f118f",
   "metadata": {},
   "source": [
    "## MNIST를 이용해 MLP 설계 시 Dropout + ReLU + Batch Normalization + He Uniform Initializattion 적용하기\n",
    "---\n",
    "- 지금까지 다양한 요소를 조절해봤음. 그 중에서도 가장 중요한 것은 학습에 이용되는 Optimizer임. \n",
    "- Optimizer 중에서도 가장 자주 이용되는 Adam을 이용해 실습해보자. "
   ]
  },
  {
   "cell_type": "code",
   "execution_count": 1,
   "id": "72f76aad",
   "metadata": {},
   "outputs": [],
   "source": [
    "'''1. Module Import'''\n",
    "\n",
    "import numpy as np\n",
    "import matplotlib.pyplot as plt\n",
    "import torch\n",
    "import torch.nn as nn\n",
    "import torch.nn.functional as F\n",
    "from torchvision import transforms, datasets"
   ]
  },
  {
   "cell_type": "code",
   "execution_count": 2,
   "id": "051d0439",
   "metadata": {},
   "outputs": [
    {
     "name": "stdout",
     "output_type": "stream",
     "text": [
      "Using Pytorch version:  1.11.0 Device:  cuda\n"
     ]
    }
   ],
   "source": [
    "'''2. 딥러닝 모델을 설계할 때 활용하는 장비 확인'''\n",
    "\n",
    "if torch.cuda.is_available():\n",
    "    DEVICE = torch.device('cuda')\n",
    "else:\n",
    "    DEVICE = torch.device('cpu')\n",
    "    \n",
    "print('Using Pytorch version: ', torch.__version__, 'Device: ', DEVICE)"
   ]
  },
  {
   "cell_type": "code",
   "execution_count": 3,
   "id": "34e33eb5",
   "metadata": {},
   "outputs": [],
   "source": [
    "BATCH_SIZE = 32\n",
    "EPOCHS = 10"
   ]
  },
  {
   "cell_type": "code",
   "execution_count": 4,
   "id": "ce792be5",
   "metadata": {},
   "outputs": [],
   "source": [
    "'''3. MNIST 데이터 다운로드 (split train / test)'''\n",
    "\n",
    "train_dataset = datasets.MNIST(root = \"../data/MNIST\",\n",
    "                              train = True,\n",
    "                              download = True,\n",
    "                              transform = transforms.ToTensor())\n",
    "\n",
    "test_dataset = datasets.MNIST(root = \"../data/MNIST\",\n",
    "                             train = False,\n",
    "                             transform = transforms.ToTensor())\n",
    "\n",
    "train_loader = torch.utils.data.DataLoader(dataset = train_dataset,\n",
    "                                          batch_size = BATCH_SIZE,\n",
    "                                          shuffle = True)\n",
    "\n",
    "test_loader = torch.utils.data.DataLoader(dataset = test_dataset,\n",
    "                                         batch_size = BATCH_SIZE,\n",
    "                                         shuffle = True)"
   ]
  },
  {
   "cell_type": "code",
   "execution_count": 5,
   "id": "a6738210",
   "metadata": {},
   "outputs": [
    {
     "name": "stdout",
     "output_type": "stream",
     "text": [
      "X_train:  torch.Size([32, 1, 28, 28]) type:  torch.FloatTensor\n",
      "y_train:  torch.Size([32]) type:  torch.LongTensor\n"
     ]
    }
   ],
   "source": [
    "'''4. 데이터 확인하기'''\n",
    "\n",
    "for (X_train, y_train) in train_loader:\n",
    "    \n",
    "    print('X_train: ', X_train.size(), 'type: ', X_train.type())\n",
    "    print('y_train: ', y_train.size(), 'type: ', y_train.type())\n",
    "    \n",
    "    break"
   ]
  },
  {
   "cell_type": "code",
   "execution_count": 6,
   "id": "ebaf5456",
   "metadata": {},
   "outputs": [
    {
     "data": {
      "image/png": "[encoded data removed]",
      "text/plain": [
       "<Figure size 720x72 with 10 Axes>"
      ]
     },
     "metadata": {
      "needs_background": "light"
     },
     "output_type": "display_data"
    }
   ],
   "source": [
    "'''5. 데이터 확인하기'''\n",
    "pltsize = 1\n",
    "plt.figure(figsize=(10 * pltsize, pltsize))\n",
    "\n",
    "for i in range(10):\n",
    "    plt.subplot(1, 10, i+1)\n",
    "    plt.axis('off')\n",
    "    plt.imshow(X_train[i, :, :, :].numpy().reshape(28, 28), cmap='gray_r')\n",
    "    plt.title('Class: ' + str(y_train[i].item()))"
   ]
  },
  {
   "cell_type": "code",
   "execution_count": 7,
   "id": "b6f64757",
   "metadata": {},
   "outputs": [],
   "source": [
    "'''6. MLP(Multi Layer Perceptron) 모델 설계하기'''\n",
    "\n",
    "class Net(nn.Module):\n",
    "    \n",
    "    def __init__(self):\n",
    "        super(Net, self).__init__()\n",
    "        self.fc1 = nn.Linear(28*28, 512)\n",
    "        self.fc2 = nn.Linear(512, 256)\n",
    "        self.fc3 = nn.Linear(256, 10)\n",
    "        self.dropout_prob = 0.5\n",
    "        self.batch_norm1 = nn.BatchNorm1d(512)\n",
    "        self.batch_norm2 = nn.BatchNorm1d(256)\n",
    "        \n",
    "    def forward(self, x):\n",
    "        \n",
    "        x = x.view(-1, 28*28)\n",
    "        \n",
    "        x = self.fc1(x)\n",
    "        x = self.batch_norm1(x)\n",
    "        x = F.relu(x)\n",
    "        x = F.dropout(x, training=self.training, p=self.dropout_prob)\n",
    "        \n",
    "        x = self.fc2(x)\n",
    "        x = self.batch_norm2(x)\n",
    "        x = F.relu(x)\n",
    "        x = F.dropout(x, training=self.training, p=self.dropout_prob)\n",
    "        \n",
    "        x = self.fc3(x)\n",
    "        x = F.log_softmax(x, dim=1)\n",
    "        \n",
    "        return x"
   ]
  },
  {
   "cell_type": "code",
   "execution_count": 8,
   "id": "fbcabf39",
   "metadata": {},
   "outputs": [
    {
     "name": "stdout",
     "output_type": "stream",
     "text": [
      "Net(\n",
      "  (fc1): Linear(in_features=784, out_features=512, bias=True)\n",
      "  (fc2): Linear(in_features=512, out_features=256, bias=True)\n",
      "  (fc3): Linear(in_features=256, out_features=10, bias=True)\n",
      "  (batch_norm1): BatchNorm1d(512, eps=1e-05, momentum=0.1, affine=True, track_running_stats=True)\n",
      "  (batch_norm2): BatchNorm1d(256, eps=1e-05, momentum=0.1, affine=True, track_running_stats=True)\n",
      ")\n"
     ]
    }
   ],
   "source": [
    "'''7. Optimizer, Objective Function 설정하기'''\n",
    "\n",
    "import torch.nn.init as init\n",
    "\n",
    "def weight_init(m):\n",
    "    \n",
    "    if isinstance(m, nn.Linear):\n",
    "        init.kaiming_uniform_(m.weight.data)\n",
    "\n",
    "model = Net().to(DEVICE)\n",
    "model.apply(weight_init)\n",
    "\n",
    "# optimizer = torch.optim.SGD(model.parameters(), lr=0.01, momentum=0.5)\n",
    "optimizer = torch.optim.Adam(model.parameters(), lr=0.01)\n",
    "criterion = nn.CrossEntropyLoss()\n",
    "\n",
    "print(model)"
   ]
  },
  {
   "cell_type": "markdown",
   "id": "82b769e2",
   "metadata": {},
   "source": [
    "- optimizer를 정의하는 단 한 줄만 변경하면 됨. \n",
    "- Adam은 대체적으로 RMSProp과 Momentum의 특징을 결합하며 다양한 optimizer 중 기본적으로 자주 이용되는 최적화 기법임. "
   ]
  },
  {
   "cell_type": "code",
   "execution_count": 9,
   "id": "79a5056f",
   "metadata": {},
   "outputs": [],
   "source": [
    "'''8. MLP 모델 학습을 진행하며 학습 데이터에 대한 모델 성능을 확인하는 함수 정의'''\n",
    "\n",
    "def train(model, train_loader, optimizer, log_interval):\n",
    "    \n",
    "    model.train()\n",
    "    \n",
    "    for batch_idx, (image, label) in enumerate(train_loader):\n",
    "        \n",
    "        image = image.to(DEVICE)\n",
    "        label = label.to(DEVICE)\n",
    "        \n",
    "        # 과거에 이용한 Mini-Batch 내에 있는 이미지와 레이블을 바탕으로 계산된 Loss의 Gradient 값이\n",
    "        # optimizer에 할당되어 있으므로 optimizer의 Gradient를 초기화\n",
    "        optimizer.zero_grad()\n",
    "        \n",
    "        # 장비에 할당한 이미지 데이터를 MLP 모델의 Input으로 이용해 Output 계산\n",
    "        output = model(image)\n",
    "        loss = criterion(output, label)\n",
    "        loss.backward()\n",
    "        \n",
    "        # 각 파라미터에 할당된 Gradient 값을 이용해 파라미터 값을 업데이트\n",
    "        optimizer.step()\n",
    "        \n",
    "        if batch_idx % log_interval == 0:\n",
    "            print(\"Train Epoch: {} [{}/{}({:.0f}%)]\\tTrain Loss: {:.6f}\".format(\n",
    "            Epoch, batch_idx * len(image),\n",
    "            len(train_loader.dataset), 100. * batch_idx / len(train_loader),\n",
    "            loss.item()))"
   ]
  },
  {
   "cell_type": "code",
   "execution_count": 10,
   "id": "a11eea99",
   "metadata": {},
   "outputs": [],
   "source": [
    "'''9. 학습되는 과정 속에서 검증 데이터에 대한 모델 성능을 확인하는 함수 정의'''\n",
    "\n",
    "def evaluate(model, test_loader):\n",
    "    \n",
    "    # 학습 과정 또는 학습이 완료된 MLP 모델을 학습 상태가 아닌, 평가 상태로 지정\n",
    "    model.eval()\n",
    "    \n",
    "    # 기존에 정의한 test_loader 내의 데이터를 이용해 Loss 값을 계산하기 위해 test_loss를 0으로 임시 설정\n",
    "    test_loss = 0\n",
    "    \n",
    "    # 학습 과정 또는 학습이 완료된 MLP 모델이 올바른 Class로 분류한 경우를 세기 위해 correct = 0으로 임시 설정\n",
    "    correct = 0\n",
    "    \n",
    "    with torch.no_grad():\n",
    "        for image, label in test_loader:\n",
    "            \n",
    "            image = image.to(DEVICE)\n",
    "            label = label.to(DEVICE)\n",
    "    \n",
    "            output = model(image)\n",
    "            test_loss += criterion(output, label).item()\n",
    "            \n",
    "            prediction = output.max(1, keepdim=True)[1]\n",
    "            \n",
    "            # MLP 모델이 최종으로 예측한 클래스 값과 실제 레이블이 의미하는 클래스가 맞으면 correct에 더해 올바르게 예측한 횟수를 저장\n",
    "            correct += prediction.eq(label.view_as(prediction)).sum().item()\n",
    "            \n",
    "    test_loss /= len(test_loader.dataset)\n",
    "    test_accuracy = 100. * correct / len(test_loader.dataset)\n",
    "    \n",
    "    return test_loss, test_accuracy"
   ]
  },
  {
   "cell_type": "code",
   "execution_count": 11,
   "id": "01f4e876",
   "metadata": {
    "scrolled": false
   },
   "outputs": [
    {
     "name": "stdout",
     "output_type": "stream",
     "text": [
      "Train Epoch: 1 [0/60000(0%)]\tTrain Loss: 2.805729\n",
      "Train Epoch: 1 [6400/60000(11%)]\tTrain Loss: 0.364043\n",
      "Train Epoch: 1 [12800/60000(21%)]\tTrain Loss: 0.202605\n",
      "Train Epoch: 1 [19200/60000(32%)]\tTrain Loss: 0.174547\n",
      "Train Epoch: 1 [25600/60000(43%)]\tTrain Loss: 0.455091\n",
      "Train Epoch: 1 [32000/60000(53%)]\tTrain Loss: 0.477291\n",
      "Train Epoch: 1 [38400/60000(64%)]\tTrain Loss: 0.371797\n",
      "Train Epoch: 1 [44800/60000(75%)]\tTrain Loss: 0.409901\n",
      "Train Epoch: 1 [51200/60000(85%)]\tTrain Loss: 0.320083\n",
      "Train Epoch: 1 [57600/60000(96%)]\tTrain Loss: 0.093334\n",
      "\n",
      "[EPOCH: 1], \tTest Loss: 0.0041, \tTest Accuracy: 96.08 %\n",
      "\n",
      "Train Epoch: 2 [0/60000(0%)]\tTrain Loss: 0.070297\n",
      "Train Epoch: 2 [6400/60000(11%)]\tTrain Loss: 0.385704\n",
      "Train Epoch: 2 [12800/60000(21%)]\tTrain Loss: 0.160311\n",
      "Train Epoch: 2 [19200/60000(32%)]\tTrain Loss: 0.442154\n",
      "Train Epoch: 2 [25600/60000(43%)]\tTrain Loss: 0.145685\n",
      "Train Epoch: 2 [32000/60000(53%)]\tTrain Loss: 0.117920\n",
      "Train Epoch: 2 [38400/60000(64%)]\tTrain Loss: 0.316521\n",
      "Train Epoch: 2 [44800/60000(75%)]\tTrain Loss: 0.208203\n",
      "Train Epoch: 2 [51200/60000(85%)]\tTrain Loss: 0.137363\n",
      "Train Epoch: 2 [57600/60000(96%)]\tTrain Loss: 0.128808\n",
      "\n",
      "[EPOCH: 2], \tTest Loss: 0.0033, \tTest Accuracy: 96.52 %\n",
      "\n",
      "Train Epoch: 3 [0/60000(0%)]\tTrain Loss: 0.348553\n",
      "Train Epoch: 3 [6400/60000(11%)]\tTrain Loss: 0.525906\n",
      "Train Epoch: 3 [12800/60000(21%)]\tTrain Loss: 0.209660\n",
      "Train Epoch: 3 [19200/60000(32%)]\tTrain Loss: 0.391508\n",
      "Train Epoch: 3 [25600/60000(43%)]\tTrain Loss: 0.508951\n",
      "Train Epoch: 3 [32000/60000(53%)]\tTrain Loss: 0.408060\n",
      "Train Epoch: 3 [38400/60000(64%)]\tTrain Loss: 0.338548\n",
      "Train Epoch: 3 [44800/60000(75%)]\tTrain Loss: 0.179012\n",
      "Train Epoch: 3 [51200/60000(85%)]\tTrain Loss: 0.301269\n",
      "Train Epoch: 3 [57600/60000(96%)]\tTrain Loss: 0.225360\n",
      "\n",
      "[EPOCH: 3], \tTest Loss: 0.0029, \tTest Accuracy: 97.03 %\n",
      "\n",
      "Train Epoch: 4 [0/60000(0%)]\tTrain Loss: 0.152913\n",
      "Train Epoch: 4 [6400/60000(11%)]\tTrain Loss: 0.130143\n",
      "Train Epoch: 4 [12800/60000(21%)]\tTrain Loss: 0.132999\n",
      "Train Epoch: 4 [19200/60000(32%)]\tTrain Loss: 0.299174\n",
      "Train Epoch: 4 [25600/60000(43%)]\tTrain Loss: 0.153918\n",
      "Train Epoch: 4 [32000/60000(53%)]\tTrain Loss: 0.129112\n",
      "Train Epoch: 4 [38400/60000(64%)]\tTrain Loss: 0.201268\n",
      "Train Epoch: 4 [44800/60000(75%)]\tTrain Loss: 0.537780\n",
      "Train Epoch: 4 [51200/60000(85%)]\tTrain Loss: 0.115211\n",
      "Train Epoch: 4 [57600/60000(96%)]\tTrain Loss: 0.149965\n",
      "\n",
      "[EPOCH: 4], \tTest Loss: 0.0026, \tTest Accuracy: 97.40 %\n",
      "\n",
      "Train Epoch: 5 [0/60000(0%)]\tTrain Loss: 0.047156\n",
      "Train Epoch: 5 [6400/60000(11%)]\tTrain Loss: 0.109843\n",
      "Train Epoch: 5 [12800/60000(21%)]\tTrain Loss: 0.099600\n",
      "Train Epoch: 5 [19200/60000(32%)]\tTrain Loss: 0.251654\n",
      "Train Epoch: 5 [25600/60000(43%)]\tTrain Loss: 0.069609\n",
      "Train Epoch: 5 [32000/60000(53%)]\tTrain Loss: 0.112708\n",
      "Train Epoch: 5 [38400/60000(64%)]\tTrain Loss: 0.131593\n",
      "Train Epoch: 5 [44800/60000(75%)]\tTrain Loss: 0.068810\n",
      "Train Epoch: 5 [51200/60000(85%)]\tTrain Loss: 0.049610\n",
      "Train Epoch: 5 [57600/60000(96%)]\tTrain Loss: 0.194545\n",
      "\n",
      "[EPOCH: 5], \tTest Loss: 0.0026, \tTest Accuracy: 97.51 %\n",
      "\n",
      "Train Epoch: 6 [0/60000(0%)]\tTrain Loss: 0.125763\n",
      "Train Epoch: 6 [6400/60000(11%)]\tTrain Loss: 0.430760\n",
      "Train Epoch: 6 [12800/60000(21%)]\tTrain Loss: 0.033456\n",
      "Train Epoch: 6 [19200/60000(32%)]\tTrain Loss: 0.174215\n",
      "Train Epoch: 6 [25600/60000(43%)]\tTrain Loss: 0.086595\n",
      "Train Epoch: 6 [32000/60000(53%)]\tTrain Loss: 0.024871\n",
      "Train Epoch: 6 [38400/60000(64%)]\tTrain Loss: 0.100108\n",
      "Train Epoch: 6 [44800/60000(75%)]\tTrain Loss: 0.364181\n",
      "Train Epoch: 6 [51200/60000(85%)]\tTrain Loss: 0.019327\n",
      "Train Epoch: 6 [57600/60000(96%)]\tTrain Loss: 0.086384\n",
      "\n",
      "[EPOCH: 6], \tTest Loss: 0.0024, \tTest Accuracy: 97.57 %\n",
      "\n",
      "Train Epoch: 7 [0/60000(0%)]\tTrain Loss: 0.063442\n",
      "Train Epoch: 7 [6400/60000(11%)]\tTrain Loss: 0.106623\n",
      "Train Epoch: 7 [12800/60000(21%)]\tTrain Loss: 0.493417\n",
      "Train Epoch: 7 [19200/60000(32%)]\tTrain Loss: 0.097155\n",
      "Train Epoch: 7 [25600/60000(43%)]\tTrain Loss: 0.133319\n",
      "Train Epoch: 7 [32000/60000(53%)]\tTrain Loss: 0.329304\n",
      "Train Epoch: 7 [38400/60000(64%)]\tTrain Loss: 0.113257\n",
      "Train Epoch: 7 [44800/60000(75%)]\tTrain Loss: 0.144606\n",
      "Train Epoch: 7 [51200/60000(85%)]\tTrain Loss: 0.450149\n",
      "Train Epoch: 7 [57600/60000(96%)]\tTrain Loss: 0.047150\n",
      "\n",
      "[EPOCH: 7], \tTest Loss: 0.0024, \tTest Accuracy: 97.56 %\n",
      "\n",
      "Train Epoch: 8 [0/60000(0%)]\tTrain Loss: 0.127087\n",
      "Train Epoch: 8 [6400/60000(11%)]\tTrain Loss: 0.384711\n",
      "Train Epoch: 8 [12800/60000(21%)]\tTrain Loss: 0.262704\n",
      "Train Epoch: 8 [19200/60000(32%)]\tTrain Loss: 0.305692\n",
      "Train Epoch: 8 [25600/60000(43%)]\tTrain Loss: 0.336337\n",
      "Train Epoch: 8 [32000/60000(53%)]\tTrain Loss: 0.024985\n",
      "Train Epoch: 8 [38400/60000(64%)]\tTrain Loss: 0.009958\n",
      "Train Epoch: 8 [44800/60000(75%)]\tTrain Loss: 0.026110\n",
      "Train Epoch: 8 [51200/60000(85%)]\tTrain Loss: 0.071726\n",
      "Train Epoch: 8 [57600/60000(96%)]\tTrain Loss: 0.387074\n",
      "\n",
      "[EPOCH: 8], \tTest Loss: 0.0025, \tTest Accuracy: 97.63 %\n",
      "\n",
      "Train Epoch: 9 [0/60000(0%)]\tTrain Loss: 0.378459\n",
      "Train Epoch: 9 [6400/60000(11%)]\tTrain Loss: 0.032863\n",
      "Train Epoch: 9 [12800/60000(21%)]\tTrain Loss: 0.048914\n",
      "Train Epoch: 9 [19200/60000(32%)]\tTrain Loss: 0.192245\n",
      "Train Epoch: 9 [25600/60000(43%)]\tTrain Loss: 0.026278\n",
      "Train Epoch: 9 [32000/60000(53%)]\tTrain Loss: 0.063631\n",
      "Train Epoch: 9 [38400/60000(64%)]\tTrain Loss: 0.302094\n",
      "Train Epoch: 9 [44800/60000(75%)]\tTrain Loss: 0.134296\n",
      "Train Epoch: 9 [51200/60000(85%)]\tTrain Loss: 0.300118\n",
      "Train Epoch: 9 [57600/60000(96%)]\tTrain Loss: 0.071950\n",
      "\n",
      "[EPOCH: 9], \tTest Loss: 0.0022, \tTest Accuracy: 98.01 %\n",
      "\n",
      "Train Epoch: 10 [0/60000(0%)]\tTrain Loss: 0.113706\n",
      "Train Epoch: 10 [6400/60000(11%)]\tTrain Loss: 0.018227\n",
      "Train Epoch: 10 [12800/60000(21%)]\tTrain Loss: 0.061236\n",
      "Train Epoch: 10 [19200/60000(32%)]\tTrain Loss: 0.070579\n",
      "Train Epoch: 10 [25600/60000(43%)]\tTrain Loss: 0.059319\n",
      "Train Epoch: 10 [32000/60000(53%)]\tTrain Loss: 0.000997\n",
      "Train Epoch: 10 [38400/60000(64%)]\tTrain Loss: 0.008463\n",
      "Train Epoch: 10 [44800/60000(75%)]\tTrain Loss: 0.059201\n",
      "Train Epoch: 10 [51200/60000(85%)]\tTrain Loss: 0.014641\n",
      "Train Epoch: 10 [57600/60000(96%)]\tTrain Loss: 0.011902\n",
      "\n",
      "[EPOCH: 10], \tTest Loss: 0.0021, \tTest Accuracy: 97.95 %\n",
      "\n"
     ]
    }
   ],
   "source": [
    "'''10. MLP 학습을 실행하면서 Train, Test set의 Loss 및 Test set Accuracy를 확인하기'''\n",
    "\n",
    "for Epoch in range(1, EPOCHS + 1):\n",
    "    \n",
    "    train(model, train_loader, optimizer, log_interval=200)\n",
    "    \n",
    "    test_loss, test_accuracy = evaluate(model, test_loader)\n",
    "    print(\"\\n[EPOCH: {}], \\tTest Loss: {:.4f}, \\tTest Accuracy: {:.2f} %\\n\".\n",
    "         format(Epoch, test_loss, test_accuracy))"
   ]
  },
  {
   "cell_type": "markdown",
   "id": "82dfb295",
   "metadata": {},
   "source": [
    "## Reference\n",
    "---\n",
    "- 파이썬 딥러닝 파이토치 - 이경택, 방성수, 안상준  \n",
    "- https://amber-chaeeunk.tistory.com/23"
   ]
  }
 ],
 "metadata": {
  "kernelspec": {
   "display_name": "Python 3 (ipykernel)",
   "language": "python",
   "name": "python3"
  },
  "language_info": {
   "codemirror_mode": {
    "name": "ipython",
    "version": 3
   },
   "file_extension": ".py",
   "mimetype": "text/x-python",
   "name": "python",
   "nbconvert_exporter": "python",
   "pygments_lexer": "ipython3",
   "version": "3.8.12"
  }
 },
 "nbformat": 4,
 "nbformat_minor": 5
}
